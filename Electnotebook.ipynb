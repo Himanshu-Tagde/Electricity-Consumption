{
  "metadata": {
    "kernelspec": {
      "language": "python",
      "display_name": "Python 3",
      "name": "python3"
    },
    "language_info": {
      "pygments_lexer": "ipython3",
      "nbconvert_exporter": "python",
      "version": "3.6.4",
      "file_extension": ".py",
      "codemirror_mode": {
        "name": "ipython",
        "version": 3
      },
      "name": "python",
      "mimetype": "text/x-python"
    },
    "kaggle": {
      "accelerator": "none",
      "dataSources": [
        {
          "sourceId": 4381269,
          "sourceType": "datasetVersion",
          "datasetId": 2573286
        }
      ],
      "dockerImageVersionId": 30301,
      "isInternetEnabled": false,
      "language": "python",
      "sourceType": "notebook",
      "isGpuEnabled": false
    },
    "colab": {
      "provenance": []
    }
  },
  "nbformat_minor": 0,
  "nbformat": 4,
  "cells": [
    {
      "cell_type": "code",
      "source": [
        "import os\n",
        "for dirname, _, filenames in os.walk('/kaggle/input'):\n",
        "    for filename in filenames:\n",
        "        print(os.path.join(dirname, filename))\n",
        "import numpy as np\n",
        "import matplotlib.pyplot as plt\n",
        "plt.style.use('fivethirtyeight')\n",
        "import seaborn as sns\n",
        "import pandas as pd\n",
        "import sklearn\n",
        "import warnings\n",
        "warnings.filterwarnings('ignore')"
      ],
      "metadata": {
        "_cell_guid": "b1076dfc-b9ad-4769-8c92-a6c4dae69d19",
        "_uuid": "8f2839f25d086af736a60e9eeb907d3b93b6e0e5",
        "papermill": {
          "duration": 1.121071,
          "end_time": "2022-10-28T11:16:27.905725",
          "exception": false,
          "start_time": "2022-10-28T11:16:26.784654",
          "status": "completed"
        },
        "tags": [],
        "execution": {
          "iopub.status.busy": "2022-10-29T06:23:30.988737Z",
          "iopub.execute_input": "2022-10-29T06:23:30.989025Z",
          "iopub.status.idle": "2022-10-29T06:23:31.406145Z",
          "shell.execute_reply.started": "2022-10-29T06:23:30.988968Z",
          "shell.execute_reply": "2022-10-29T06:23:31.404932Z"
        },
        "trusted": true,
        "id": "POU0tnMaoHgZ"
      },
      "execution_count": null,
      "outputs": []
    },
    {
      "cell_type": "code",
      "source": [
        "df=pd.read_csv('../input/240000-household-electricity-consumption-records/household_power_consumption.csv')\n",
        "df"
      ],
      "metadata": {
        "papermill": {
          "duration": 0.523994,
          "end_time": "2022-10-28T11:16:28.43567",
          "exception": false,
          "start_time": "2022-10-28T11:16:27.911676",
          "status": "completed"
        },
        "tags": [],
        "execution": {
          "iopub.status.busy": "2022-10-29T06:23:31.407746Z",
          "iopub.execute_input": "2022-10-29T06:23:31.40859Z",
          "iopub.status.idle": "2022-10-29T06:23:31.654311Z",
          "shell.execute_reply.started": "2022-10-29T06:23:31.408558Z",
          "shell.execute_reply": "2022-10-29T06:23:31.65341Z"
        },
        "trusted": true,
        "id": "bu9D9oP6oHgc"
      },
      "execution_count": null,
      "outputs": []
    },
    {
      "cell_type": "markdown",
      "source": [
        "## REFINING THE DATA"
      ],
      "metadata": {
        "id": "cdh4BmxkoHgc"
      }
    },
    {
      "cell_type": "code",
      "source": [
        "df=df.drop('index',axis=1)\n",
        "df['Date']=pd.to_datetime(df['Date'])\n",
        "df['Time']=pd.to_datetime(df['Time'])\n",
        "df=df.sort_values('Date')\n",
        "\n",
        "df['Sub_metering_1']=df['Sub_metering_1'].replace({'?':'0'})\n",
        "df['Sub_metering_2']=df['Sub_metering_2'].replace({'?':'0'})\n",
        "df['Sub_metering_2']=df['Sub_metering_2'].replace({'?':'0'})\n",
        "df.groupby(['Sub_metering_1']).count()\n",
        "df['Sub_metering_1']=pd.DataFrame(np.array(df['Sub_metering_1'],dtype='float32'))\n",
        "df['Sub_metering_2']=pd.DataFrame(np.array(df['Sub_metering_2'],dtype='float32'))\n",
        "df['Sub_metering_3']=df['Sub_metering_3'].fillna(method='bfill')"
      ],
      "metadata": {
        "papermill": {
          "duration": 13.138561,
          "end_time": "2022-10-28T11:16:41.582517",
          "exception": false,
          "start_time": "2022-10-28T11:16:28.443956",
          "status": "completed"
        },
        "tags": [],
        "execution": {
          "iopub.status.busy": "2022-10-29T06:23:31.656361Z",
          "iopub.execute_input": "2022-10-29T06:23:31.657487Z",
          "iopub.status.idle": "2022-10-29T06:23:42.106676Z",
          "shell.execute_reply.started": "2022-10-29T06:23:31.657427Z",
          "shell.execute_reply": "2022-10-29T06:23:42.105705Z"
        },
        "trusted": true,
        "id": "mJzy2-sroHgd"
      },
      "execution_count": null,
      "outputs": []
    },
    {
      "cell_type": "markdown",
      "source": [
        "## PLOTTING SUB-METER READINGS OVER TIME"
      ],
      "metadata": {
        "papermill": {
          "duration": 0.005773,
          "end_time": "2022-10-28T11:16:41.5945",
          "exception": false,
          "start_time": "2022-10-28T11:16:41.588727",
          "status": "completed"
        },
        "tags": [],
        "id": "77p31stkoHgd"
      }
    },
    {
      "cell_type": "code",
      "source": [
        "df.groupby(['Time']).mean().rolling(60).mean().plot(linewidth=1)\n",
        "plt.title('1-HOUR AVERAGE')"
      ],
      "metadata": {
        "papermill": {
          "duration": 0.432184,
          "end_time": "2022-10-28T11:16:42.032777",
          "exception": false,
          "start_time": "2022-10-28T11:16:41.600593",
          "status": "completed"
        },
        "tags": [],
        "execution": {
          "iopub.status.busy": "2022-10-29T06:23:42.108863Z",
          "iopub.execute_input": "2022-10-29T06:23:42.109138Z",
          "iopub.status.idle": "2022-10-29T06:23:42.375693Z",
          "shell.execute_reply.started": "2022-10-29T06:23:42.109114Z",
          "shell.execute_reply": "2022-10-29T06:23:42.373499Z"
        },
        "trusted": true,
        "id": "14CSkmRloHge"
      },
      "execution_count": null,
      "outputs": []
    },
    {
      "cell_type": "code",
      "source": [
        "df.groupby(['Date']).mean().rolling(10).mean().plot(linewidth=1)\n",
        "plt.title('10-DAY AVERAGE')"
      ],
      "metadata": {
        "papermill": {
          "duration": 0.393566,
          "end_time": "2022-10-28T11:16:42.433336",
          "exception": false,
          "start_time": "2022-10-28T11:16:42.03977",
          "status": "completed"
        },
        "tags": [],
        "execution": {
          "iopub.status.busy": "2022-10-29T06:23:42.376869Z",
          "iopub.execute_input": "2022-10-29T06:23:42.3771Z",
          "iopub.status.idle": "2022-10-29T06:23:42.638568Z",
          "shell.execute_reply.started": "2022-10-29T06:23:42.377077Z",
          "shell.execute_reply": "2022-10-29T06:23:42.637512Z"
        },
        "trusted": true,
        "id": "OmRB_2kWoHge"
      },
      "execution_count": null,
      "outputs": []
    },
    {
      "cell_type": "markdown",
      "source": [
        "## PLOTTING 10-DAY AVERAGE FOR ACTIVE AND REACTIVE POWER"
      ],
      "metadata": {
        "papermill": {
          "duration": 0.007494,
          "end_time": "2022-10-28T11:16:42.449093",
          "exception": false,
          "start_time": "2022-10-28T11:16:42.441599",
          "status": "completed"
        },
        "tags": [],
        "id": "o3gIZU-2oHge"
      }
    },
    {
      "cell_type": "code",
      "source": [
        "df['Global_active_power']=df['Global_active_power'].replace({'?':0.214})\n",
        "df['Global_reactive_power']=df['Global_reactive_power'].replace({'?':0.1})\n",
        "# THESE ARE THE MOST COMMONLY OCCURING VALUES IN THE FEATURE\n",
        "\n",
        "df[['Global_reactive_power','Global_active_power']]=pd.DataFrame(np.array(df[['Global_reactive_power','Global_active_power']],dtype='float32'))\n",
        "##df.groupby(['Date']).mean()[['Global_active_power','Global_reactive_power']].plot(linewidth=2)\n",
        "df.groupby(['Date']).mean()[['Global_active_power','Global_reactive_power']].rolling(10).mean().plot(linewidth=2)\n",
        "plt.title('10-DAY AVERAGE')\n",
        "plt.show()"
      ],
      "metadata": {
        "papermill": {
          "duration": 0.478532,
          "end_time": "2022-10-28T11:16:42.935416",
          "exception": false,
          "start_time": "2022-10-28T11:16:42.456884",
          "status": "completed"
        },
        "tags": [],
        "execution": {
          "iopub.status.busy": "2022-10-29T06:23:42.642136Z",
          "iopub.execute_input": "2022-10-29T06:23:42.642444Z",
          "iopub.status.idle": "2022-10-29T06:23:42.974098Z",
          "shell.execute_reply.started": "2022-10-29T06:23:42.642417Z",
          "shell.execute_reply": "2022-10-29T06:23:42.973016Z"
        },
        "trusted": true,
        "id": "pSHKErhhoHge"
      },
      "execution_count": null,
      "outputs": []
    },
    {
      "cell_type": "markdown",
      "source": [
        "## PLOTTING VOLTAGE OVER DATE/TIME"
      ],
      "metadata": {
        "papermill": {
          "duration": 0.008436,
          "end_time": "2022-10-28T11:16:42.952474",
          "exception": false,
          "start_time": "2022-10-28T11:16:42.944038",
          "status": "completed"
        },
        "tags": [],
        "id": "m8vNgI5KoHge"
      }
    },
    {
      "cell_type": "code",
      "source": [
        "#df.groupby(['Voltage']).count().sort_values('Time',ascending=False)\n",
        "df['Voltage']=df['Voltage'].replace({'?':240})\n",
        "df['Voltage']=pd.DataFrame(np.array(df['Voltage'],dtype='float32'))\n",
        "df.groupby(['Time']).mean()['Voltage'].rolling(10).mean().plot(linewidth=2)\n",
        "plt.ylabel('Voltage')"
      ],
      "metadata": {
        "papermill": {
          "duration": 0.354103,
          "end_time": "2022-10-28T11:16:43.315757",
          "exception": false,
          "start_time": "2022-10-28T11:16:42.961654",
          "status": "completed"
        },
        "tags": [],
        "execution": {
          "iopub.status.busy": "2022-10-29T06:23:42.975362Z",
          "iopub.execute_input": "2022-10-29T06:23:42.975689Z",
          "iopub.status.idle": "2022-10-29T06:23:43.212756Z",
          "shell.execute_reply.started": "2022-10-29T06:23:42.975664Z",
          "shell.execute_reply": "2022-10-29T06:23:43.212038Z"
        },
        "trusted": true,
        "id": "w-bpk-bDoHgf"
      },
      "execution_count": null,
      "outputs": []
    },
    {
      "cell_type": "code",
      "source": [
        "df.groupby(['Date']).mean()['Voltage'].rolling(7).mean().plot(linewidth=2)\n",
        "plt.ylabel('Voltage')"
      ],
      "metadata": {
        "papermill": {
          "duration": 0.320785,
          "end_time": "2022-10-28T11:16:43.646153",
          "exception": false,
          "start_time": "2022-10-28T11:16:43.325368",
          "status": "completed"
        },
        "tags": [],
        "execution": {
          "iopub.status.busy": "2022-10-29T06:23:43.213763Z",
          "iopub.execute_input": "2022-10-29T06:23:43.214157Z",
          "iopub.status.idle": "2022-10-29T06:23:43.435784Z",
          "shell.execute_reply.started": "2022-10-29T06:23:43.214133Z",
          "shell.execute_reply": "2022-10-29T06:23:43.434519Z"
        },
        "trusted": true,
        "id": "A4SoIaTJoHgf"
      },
      "execution_count": null,
      "outputs": []
    },
    {
      "cell_type": "markdown",
      "source": [
        "## PLOTTING GLOBAL INTENSITY OVER TIME"
      ],
      "metadata": {
        "papermill": {
          "duration": 0.009492,
          "end_time": "2022-10-28T11:16:43.665526",
          "exception": false,
          "start_time": "2022-10-28T11:16:43.656034",
          "status": "completed"
        },
        "tags": [],
        "id": "CpbRddQKoHgf"
      }
    },
    {
      "cell_type": "code",
      "source": [
        "#df.groupby(['Global_intensity']).count().sort_values('Time',ascending=False)\n",
        "df['Global_intensity']=df['Global_intensity'].replace({'?':1.4})\n",
        "df['Global_intensity']=pd.DataFrame(np.array(df['Global_intensity'],dtype='float32'))\n",
        "df.groupby(['Time']).mean()['Global_intensity'].rolling(10).mean().plot(linewidth=2)\n",
        "plt.ylabel('Global Intensity')"
      ],
      "metadata": {
        "papermill": {
          "duration": 0.351883,
          "end_time": "2022-10-28T11:16:44.027271",
          "exception": false,
          "start_time": "2022-10-28T11:16:43.675388",
          "status": "completed"
        },
        "tags": [],
        "execution": {
          "iopub.status.busy": "2022-10-29T06:23:43.437145Z",
          "iopub.execute_input": "2022-10-29T06:23:43.437563Z",
          "iopub.status.idle": "2022-10-29T06:23:43.670997Z",
          "shell.execute_reply.started": "2022-10-29T06:23:43.437523Z",
          "shell.execute_reply": "2022-10-29T06:23:43.669953Z"
        },
        "trusted": true,
        "id": "kPdhp-n2oHgf"
      },
      "execution_count": null,
      "outputs": []
    },
    {
      "cell_type": "code",
      "source": [
        "df.groupby(['Date']).mean()['Global_intensity'].rolling(7).mean().plot(linewidth=2)\n",
        "plt.ylabel('Global Intensity')\n",
        "plt.title('Weekly Average')"
      ],
      "metadata": {
        "papermill": {
          "duration": 0.333173,
          "end_time": "2022-10-28T11:16:44.371692",
          "exception": false,
          "start_time": "2022-10-28T11:16:44.038519",
          "status": "completed"
        },
        "tags": [],
        "execution": {
          "iopub.status.busy": "2022-10-29T06:23:43.672153Z",
          "iopub.execute_input": "2022-10-29T06:23:43.672394Z",
          "iopub.status.idle": "2022-10-29T06:23:43.904859Z",
          "shell.execute_reply.started": "2022-10-29T06:23:43.672371Z",
          "shell.execute_reply": "2022-10-29T06:23:43.903665Z"
        },
        "trusted": true,
        "id": "LdoE0j8uoHgf"
      },
      "execution_count": null,
      "outputs": []
    },
    {
      "cell_type": "markdown",
      "source": [
        "#### MORE IS THE POWER CONSUMPTION MORE ARE THE METER READINGS"
      ],
      "metadata": {
        "id": "wyDHoEoroHgf"
      }
    },
    {
      "cell_type": "code",
      "source": [
        "df.groupby(['Global_active_power']).mean()[['Sub_metering_2','Sub_metering_3']][:8].rolling(20).mean().plot(linewidth=1)\n",
        "plt.title('Mean Readings')\n",
        "df.groupby(['Global_active_power']).std()[['Sub_metering_2','Sub_metering_3']][:8].rolling(10).mean().plot(linewidth=1)\n",
        "plt.title('Std Readings')\n",
        "plt.show()"
      ],
      "metadata": {
        "papermill": {
          "duration": 0.519761,
          "end_time": "2022-10-28T11:16:44.903054",
          "exception": false,
          "start_time": "2022-10-28T11:16:44.383293",
          "status": "completed"
        },
        "tags": [],
        "execution": {
          "iopub.status.busy": "2022-10-29T06:23:43.906416Z",
          "iopub.execute_input": "2022-10-29T06:23:43.907349Z",
          "iopub.status.idle": "2022-10-29T06:23:44.244948Z",
          "shell.execute_reply.started": "2022-10-29T06:23:43.907293Z",
          "shell.execute_reply": "2022-10-29T06:23:44.243935Z"
        },
        "trusted": true,
        "id": "uhaZQgjPoHgf"
      },
      "execution_count": null,
      "outputs": []
    },
    {
      "cell_type": "markdown",
      "source": [
        "#### VARIANCE OF SUBMETERING 2 IS POSITIVELY CORRELATED WITH THE GLOBAL ACTIVE POWER"
      ],
      "metadata": {
        "papermill": {
          "duration": 0.012534,
          "end_time": "2022-10-28T11:16:44.928852",
          "exception": false,
          "start_time": "2022-10-28T11:16:44.916318",
          "status": "completed"
        },
        "tags": [],
        "id": "3zG-fmcpoHgf"
      }
    },
    {
      "cell_type": "markdown",
      "source": [
        " ## MODELLING OBJECTIVES\n",
        " ##### 1. MODELLING ACTIVE AND REACTIVE POWER BY DATE\n",
        " ##### 2. MODELLING SUBMETER READINGS BY DATE\n",
        " ##### 3. MODELLING GLOBAL INTENSITY OVER TIME"
      ],
      "metadata": {
        "papermill": {
          "duration": 0.012374,
          "end_time": "2022-10-28T11:16:44.954098",
          "exception": false,
          "start_time": "2022-10-28T11:16:44.941724",
          "status": "completed"
        },
        "tags": [],
        "id": "qd8AwNtnoHgg"
      }
    },
    {
      "cell_type": "code",
      "source": [
        "from statsmodels.tsa.arima.model import ARIMA\n",
        "from statsmodels.graphics.tsaplots import plot_acf, plot_pacf"
      ],
      "metadata": {
        "papermill": {
          "duration": 0.19614,
          "end_time": "2022-10-28T11:16:45.162957",
          "exception": false,
          "start_time": "2022-10-28T11:16:44.966817",
          "status": "completed"
        },
        "tags": [],
        "execution": {
          "iopub.status.busy": "2022-10-29T06:23:44.245772Z",
          "iopub.execute_input": "2022-10-29T06:23:44.245992Z",
          "iopub.status.idle": "2022-10-29T06:23:44.306273Z",
          "shell.execute_reply.started": "2022-10-29T06:23:44.24597Z",
          "shell.execute_reply": "2022-10-29T06:23:44.305625Z"
        },
        "trusted": true,
        "id": "1ODI_zqooHgg"
      },
      "execution_count": null,
      "outputs": []
    },
    {
      "cell_type": "markdown",
      "source": [
        "## MODELLING GLOBAL ACTIVE AND REACTIVE POWER"
      ],
      "metadata": {
        "papermill": {
          "duration": 0.012752,
          "end_time": "2022-10-28T11:16:45.1888",
          "exception": false,
          "start_time": "2022-10-28T11:16:45.176048",
          "status": "completed"
        },
        "tags": [],
        "id": "emtI8mvAoHgg"
      }
    },
    {
      "cell_type": "code",
      "source": [
        "## PLOTTING AUTO CORRELATION AND PARTIAL CORRELATION\n",
        "plot_acf(df.groupby(['Date']).mean()['Global_active_power'][:'2007-08'],lags=100,title=\"Global Reactive Power\")\n",
        "plt.xlabel('lags')\n",
        "plt.title('Autocorrelation')\n",
        "plt.show()"
      ],
      "metadata": {
        "papermill": {
          "duration": 0.528302,
          "end_time": "2022-10-28T11:16:45.730223",
          "exception": false,
          "start_time": "2022-10-28T11:16:45.201921",
          "status": "completed"
        },
        "tags": [],
        "execution": {
          "iopub.status.busy": "2022-10-29T06:23:44.310059Z",
          "iopub.execute_input": "2022-10-29T06:23:44.310779Z",
          "iopub.status.idle": "2022-10-29T06:23:44.464826Z",
          "shell.execute_reply.started": "2022-10-29T06:23:44.310753Z",
          "shell.execute_reply": "2022-10-29T06:23:44.464128Z"
        },
        "trusted": true,
        "id": "R7QrKTpJoHgg"
      },
      "execution_count": null,
      "outputs": []
    },
    {
      "cell_type": "code",
      "source": [
        "act_power_df=df.groupby(['Date']).mean()['Global_active_power'][:'2007-08']\n",
        "model1=ARIMA(act_power_df,order=(5,2,0))\n",
        "preds=model1.fit().predict()\n",
        "plt.plot(preds,linewidth=3)\n",
        "act_power_df.rolling(5).mean().plot(linewidth=2)\n",
        "plt.legend(['Predicted','Observed'])\n",
        "plt.xlabel('Date')\n",
        "plt.title('Global Active Power')\n",
        "plt.show()"
      ],
      "metadata": {
        "execution": {
          "iopub.status.busy": "2022-10-29T06:23:44.465943Z",
          "iopub.execute_input": "2022-10-29T06:23:44.466335Z",
          "iopub.status.idle": "2022-10-29T06:23:44.908884Z",
          "shell.execute_reply.started": "2022-10-29T06:23:44.466308Z",
          "shell.execute_reply": "2022-10-29T06:23:44.908186Z"
        },
        "trusted": true,
        "id": "Unar-t9BoHgg"
      },
      "execution_count": null,
      "outputs": []
    },
    {
      "cell_type": "code",
      "source": [
        "plot_acf(df.groupby(['Date']).mean()['Global_reactive_power'][:'2007-08'],lags=100,title=\"Global Reactive Power\")\n",
        "plt.xlabel('lags')\n",
        "plt.title('Autocorrelation')\n",
        "plt.show()"
      ],
      "metadata": {
        "papermill": {
          "duration": 0.687359,
          "end_time": "2022-10-28T11:16:46.460632",
          "exception": false,
          "start_time": "2022-10-28T11:16:45.773273",
          "status": "completed"
        },
        "tags": [],
        "execution": {
          "iopub.status.busy": "2022-10-29T06:23:44.910004Z",
          "iopub.execute_input": "2022-10-29T06:23:44.911003Z",
          "iopub.status.idle": "2022-10-29T06:23:45.069208Z",
          "shell.execute_reply.started": "2022-10-29T06:23:44.910958Z",
          "shell.execute_reply": "2022-10-29T06:23:45.068515Z"
        },
        "trusted": true,
        "id": "4CX4IELvoHgg"
      },
      "execution_count": null,
      "outputs": []
    },
    {
      "cell_type": "code",
      "source": [
        "react_power_df=df.groupby(['Date']).mean()['Global_reactive_power'][:'2007-08']\n",
        "model2=ARIMA(react_power_df,order=(10,2,0))\n",
        "preds=model2.fit().predict()\n",
        "plt.plot(preds,linewidth=3)\n",
        "react_power_df.rolling(5).mean().plot(linewidth=2)\n",
        "plt.legend(['Predicted','Observed'])\n",
        "plt.xlabel('Date')\n",
        "plt.title('Global Rective Power')\n",
        "plt.show()"
      ],
      "metadata": {
        "execution": {
          "iopub.status.busy": "2022-10-29T06:23:45.070431Z",
          "iopub.execute_input": "2022-10-29T06:23:45.070913Z",
          "iopub.status.idle": "2022-10-29T06:23:45.768061Z",
          "shell.execute_reply.started": "2022-10-29T06:23:45.070886Z",
          "shell.execute_reply": "2022-10-29T06:23:45.76705Z"
        },
        "trusted": true,
        "id": "_i6hyh2coHgg"
      },
      "execution_count": null,
      "outputs": []
    },
    {
      "cell_type": "markdown",
      "source": [
        "## MODELLING SUB-METERINGS"
      ],
      "metadata": {
        "id": "StlfRaSnoHgg"
      }
    },
    {
      "cell_type": "code",
      "source": [
        "## PLOTTING AUTO CORRELATION AND PARTIAL CORRELATION\n",
        "plot_acf(df.groupby(['Date']).mean()['Sub_metering_2'][:'2007-08'],lags=100,title='Sub_metering_2')\n",
        "plt.xlabel('lags')\n",
        "plt.title('Autocorrelation')\n",
        "plt.show()"
      ],
      "metadata": {
        "papermill": {
          "duration": 0.528984,
          "end_time": "2022-10-28T11:16:47.005434",
          "exception": false,
          "start_time": "2022-10-28T11:16:46.47645",
          "status": "completed"
        },
        "tags": [],
        "execution": {
          "iopub.status.busy": "2022-10-29T06:23:45.769346Z",
          "iopub.execute_input": "2022-10-29T06:23:45.769833Z",
          "iopub.status.idle": "2022-10-29T06:23:45.921261Z",
          "shell.execute_reply.started": "2022-10-29T06:23:45.769807Z",
          "shell.execute_reply": "2022-10-29T06:23:45.920578Z"
        },
        "trusted": true,
        "id": "bFO99ukwoHgh"
      },
      "execution_count": null,
      "outputs": []
    },
    {
      "cell_type": "code",
      "source": [
        "meter2_df=df.groupby(['Date']).mean()['Sub_metering_2'][:'2007-08']\n",
        "model3=ARIMA(meter2_df,order=(5,1,0))\n",
        "preds=model3.fit().predict()\n",
        "plt.plot(preds,linewidth=3)\n",
        "meter2_df.rolling(5).mean().plot(linewidth=2)\n",
        "plt.legend(['Predicted','Observed'])\n",
        "plt.xlabel('Date')\n",
        "plt.title('Sub-Metering 2')\n",
        "plt.show()"
      ],
      "metadata": {
        "papermill": {
          "duration": 0.015381,
          "end_time": "2022-10-28T11:16:47.037417",
          "exception": false,
          "start_time": "2022-10-28T11:16:47.022036",
          "status": "completed"
        },
        "tags": [],
        "execution": {
          "iopub.status.busy": "2022-10-29T06:23:45.922368Z",
          "iopub.execute_input": "2022-10-29T06:23:45.922801Z",
          "iopub.status.idle": "2022-10-29T06:23:46.177438Z",
          "shell.execute_reply.started": "2022-10-29T06:23:45.922774Z",
          "shell.execute_reply": "2022-10-29T06:23:46.176474Z"
        },
        "trusted": true,
        "id": "C9-JMt6roHgh"
      },
      "execution_count": null,
      "outputs": []
    },
    {
      "cell_type": "code",
      "source": [
        "## PLOTTING AUTO CORRELATION AND PARTIAL CORRELATION\n",
        "plot_acf(df.groupby(['Date']).mean()['Sub_metering_1'][:'2007-08'],lags=100,title='Sub_metering_1')\n",
        "plt.xlabel('lags')\n",
        "plt.title('Autocorrelation')\n",
        "plt.show()"
      ],
      "metadata": {
        "execution": {
          "iopub.status.busy": "2022-10-29T06:23:46.17849Z",
          "iopub.execute_input": "2022-10-29T06:23:46.179371Z",
          "iopub.status.idle": "2022-10-29T06:23:46.331737Z",
          "shell.execute_reply.started": "2022-10-29T06:23:46.179349Z",
          "shell.execute_reply": "2022-10-29T06:23:46.330827Z"
        },
        "trusted": true,
        "id": "ryP50VwqoHgh"
      },
      "execution_count": null,
      "outputs": []
    },
    {
      "cell_type": "code",
      "source": [
        "meter1_df=df.groupby(['Date']).mean()['Sub_metering_2'][:'2007-08']\n",
        "model4=ARIMA(meter2_df,order=(5,1,0))\n",
        "preds=model4.fit().predict()\n",
        "plt.plot(preds,linewidth=3)\n",
        "meter1_df.rolling(3).mean().plot(linewidth=2)\n",
        "plt.legend(['Predicted','Observed'])\n",
        "plt.xlabel('Date')\n",
        "plt.title('Sub-Metering 1')\n",
        "plt.show()"
      ],
      "metadata": {
        "execution": {
          "iopub.status.busy": "2022-10-29T06:23:46.332823Z",
          "iopub.execute_input": "2022-10-29T06:23:46.333129Z",
          "iopub.status.idle": "2022-10-29T06:23:46.61689Z",
          "shell.execute_reply.started": "2022-10-29T06:23:46.3331Z",
          "shell.execute_reply": "2022-10-29T06:23:46.615663Z"
        },
        "trusted": true,
        "id": "QHqggAxboHgh"
      },
      "execution_count": null,
      "outputs": []
    },
    {
      "cell_type": "markdown",
      "source": [
        "## MODELLING GLOBAL INTENSITY"
      ],
      "metadata": {
        "id": "ej70az50oHgh"
      }
    },
    {
      "cell_type": "code",
      "source": [
        "plot_acf(df.groupby(['Time']).mean()['Global_intensity'],lags=100,title=\"Global Reactive Power\")\n",
        "plt.xlabel('lags')\n",
        "plt.title('Autocorrelation')\n",
        "plt.show()"
      ],
      "metadata": {
        "execution": {
          "iopub.status.busy": "2022-10-29T06:23:46.618057Z",
          "iopub.execute_input": "2022-10-29T06:23:46.618386Z",
          "iopub.status.idle": "2022-10-29T06:23:46.771575Z",
          "shell.execute_reply.started": "2022-10-29T06:23:46.61836Z",
          "shell.execute_reply": "2022-10-29T06:23:46.770171Z"
        },
        "trusted": true,
        "id": "qN-U91hxoHgh"
      },
      "execution_count": null,
      "outputs": []
    },
    {
      "cell_type": "code",
      "source": [
        "int_df=df.groupby(['Time']).mean()['Global_intensity']\n",
        "model5=ARIMA(int_df,order=(5,3,0))\n",
        "preds=model5.fit().predict()\n",
        "plt.plot(preds,linewidth=3)\n",
        "int_df.rolling(60).mean().plot(linewidth=2)\n",
        "plt.legend(['Predicted','Observed'])\n",
        "plt.xlabel('Time')\n",
        "plt.title('Global Intensity')\n",
        "plt.show()"
      ],
      "metadata": {
        "execution": {
          "iopub.status.busy": "2022-10-29T06:23:46.77242Z",
          "iopub.execute_input": "2022-10-29T06:23:46.772701Z",
          "iopub.status.idle": "2022-10-29T06:23:47.211712Z",
          "shell.execute_reply.started": "2022-10-29T06:23:46.772674Z",
          "shell.execute_reply": "2022-10-29T06:23:47.211052Z"
        },
        "trusted": true,
        "id": "JEPktITNoHgh"
      },
      "execution_count": null,
      "outputs": []
    },
    {
      "cell_type": "code",
      "source": [],
      "metadata": {
        "id": "50BNwGXcoHgi"
      },
      "execution_count": null,
      "outputs": []
    }
  ]
}